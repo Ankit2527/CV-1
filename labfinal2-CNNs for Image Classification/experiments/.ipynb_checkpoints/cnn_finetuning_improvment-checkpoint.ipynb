{
 "cells": [
  {
   "cell_type": "code",
   "execution_count": 1,
   "id": "5507a249-fc78-4cfc-a933-ca345d0f1ee6",
   "metadata": {},
   "outputs": [],
   "source": [
    "%load_ext autoreload\n",
    "%autoreload 2"
   ]
  },
  {
   "cell_type": "code",
   "execution_count": 2,
   "id": "991c17b7-ff63-4049-9456-f3486680261d",
   "metadata": {},
   "outputs": [],
   "source": [
    "import sys\n",
    "sys.path.insert(0, \"../\")"
   ]
  },
  {
   "cell_type": "code",
   "execution_count": 3,
   "id": "80d8b0e7-7191-4e51-9743-f0e923743548",
   "metadata": {},
   "outputs": [
    {
     "name": "stdout",
     "output_type": "stream",
     "text": [
      "sys.version_info(major=3, minor=9, micro=7, releaselevel='final', serial=0)\n"
     ]
    }
   ],
   "source": [
    "import numpy as np\n",
    "import pandas as pd\n",
    "from tqdm import tqdm\n",
    "import matplotlib.pyplot as plt\n",
    "import seaborn as sns\n",
    "from sklearn.manifold import TSNE\n",
    "import torch\n",
    "import torch.nn as nn\n",
    "from torchsummary import summary\n",
    "\n",
    "from data.input_transforms import InputTransform\n",
    "from data.cifar import CIFAR\n",
    "from data.stl import STL, LABEL_MAP\n",
    "from data.dataloader import get_dataloader\n",
    "from models.optimizer import optimizer, scheduler\n",
    "from networks.twolayernet import TwolayerNet\n",
    "from networks.convnet import ConvNet\n",
    "from utils.viz import plot_multiple_quantities_by_time, show_many_images\n",
    "from main import train, evaluate, fix_seed"
   ]
  },
  {
   "cell_type": "markdown",
   "id": "e096308c-9a90-4947-9ec7-5afc7ef267d4",
   "metadata": {
    "tags": []
   },
   "source": [
    "### Train the network"
   ]
  },
  {
   "cell_type": "code",
   "execution_count": 84,
   "id": "311385db-5de8-4db4-8796-5059c91cccc3",
   "metadata": {
    "tags": []
   },
   "outputs": [
    {
     "name": "stdout",
     "output_type": "stream",
     "text": [
      ":::: Loaded dataset from ../datasets/STL-10/: X ((500, 96, 96, 3)) y (500)\n",
      ":::: Loaded dataset from ../datasets/STL-10/: X ((2000, 96, 96, 3)) y (2000)\n",
      ":::: Loaded dataset from ../datasets/STL-10/: X ((4000, 96, 96, 3)) y (4000)\n"
     ]
    },
    {
     "name": "stderr",
     "output_type": "stream",
     "text": [
      "Training: Epoch [1/100]: 100%|██████████████████████████████| 16/16 [00:00<00:00, 29.07it/s]                    \n",
      "Evaluate: Epoch [1/100]: 100%|██████████████████████████████| 4/4 [00:00<00:00, 77.22it/s]                      \n"
     ]
    },
    {
     "name": "stdout",
     "output_type": "stream",
     "text": [
      "VALID \t: Summary: Loss: 1.6957 Accuracy: 0.2120\n",
      "TRAIN \t: Summary: Loss: 1.7648 Accuracy: 0.2280\n"
     ]
    },
    {
     "name": "stderr",
     "output_type": "stream",
     "text": [
      "Training: Epoch [2/100]: 100%|██████████████████████████████| 16/16 [00:00<00:00, 31.19it/s]                    \n",
      "Evaluate: Epoch [2/100]: 100%|██████████████████████████████| 4/4 [00:00<00:00, 54.59it/s]                      \n"
     ]
    },
    {
     "name": "stdout",
     "output_type": "stream",
     "text": [
      "VALID \t: Summary: Loss: 1.5403 Accuracy: 0.2820\n",
      "TRAIN \t: Summary: Loss: 1.6038 Accuracy: 0.2860\n"
     ]
    },
    {
     "name": "stderr",
     "output_type": "stream",
     "text": [
      "Training: Epoch [3/100]: 100%|██████████████████████████████| 16/16 [00:00<00:00, 30.43it/s]                    \n",
      "Evaluate: Epoch [3/100]: 100%|██████████████████████████████| 4/4 [00:00<00:00, 74.71it/s]                      \n"
     ]
    },
    {
     "name": "stdout",
     "output_type": "stream",
     "text": [
      "VALID \t: Summary: Loss: 1.4126 Accuracy: 0.3880\n",
      "TRAIN \t: Summary: Loss: 1.4718 Accuracy: 0.3735\n"
     ]
    },
    {
     "name": "stderr",
     "output_type": "stream",
     "text": [
      "Training: Epoch [4/100]: 100%|██████████████████████████████| 16/16 [00:00<00:00, 29.62it/s]                    \n",
      "Evaluate: Epoch [4/100]: 100%|██████████████████████████████| 4/4 [00:00<00:00, 34.59it/s]                      \n"
     ]
    },
    {
     "name": "stdout",
     "output_type": "stream",
     "text": [
      "VALID \t: Summary: Loss: 1.3090 Accuracy: 0.4280\n",
      "TRAIN \t: Summary: Loss: 1.3614 Accuracy: 0.4320\n"
     ]
    },
    {
     "name": "stderr",
     "output_type": "stream",
     "text": [
      "Training: Epoch [5/100]: 100%|██████████████████████████████| 16/16 [00:00<00:00, 28.82it/s]                    \n",
      "Evaluate: Epoch [5/100]: 100%|██████████████████████████████| 4/4 [00:00<00:00, 82.96it/s]                      \n"
     ]
    },
    {
     "name": "stdout",
     "output_type": "stream",
     "text": [
      "VALID \t: Summary: Loss: 1.2286 Accuracy: 0.4580\n",
      "TRAIN \t: Summary: Loss: 1.2927 Accuracy: 0.4355\n"
     ]
    },
    {
     "name": "stderr",
     "output_type": "stream",
     "text": [
      "Training: Epoch [6/100]: 100%|██████████████████████████████| 16/16 [00:00<00:00, 31.42it/s]                    \n",
      "Evaluate: Epoch [6/100]: 100%|██████████████████████████████| 4/4 [00:00<00:00, 75.77it/s]                      \n"
     ]
    },
    {
     "name": "stdout",
     "output_type": "stream",
     "text": [
      "VALID \t: Summary: Loss: 1.1715 Accuracy: 0.4800\n",
      "TRAIN \t: Summary: Loss: 1.2303 Accuracy: 0.4625\n"
     ]
    },
    {
     "name": "stderr",
     "output_type": "stream",
     "text": [
      "Training: Epoch [7/100]: 100%|██████████████████████████████| 16/16 [00:00<00:00, 30.70it/s]                    \n",
      "Evaluate: Epoch [7/100]: 100%|██████████████████████████████| 4/4 [00:00<00:00, 80.96it/s]                      \n"
     ]
    },
    {
     "name": "stdout",
     "output_type": "stream",
     "text": [
      "VALID \t: Summary: Loss: 1.1276 Accuracy: 0.5080\n",
      "TRAIN \t: Summary: Loss: 1.1786 Accuracy: 0.4995\n"
     ]
    },
    {
     "name": "stderr",
     "output_type": "stream",
     "text": [
      "Training: Epoch [8/100]: 100%|██████████████████████████████| 16/16 [00:00<00:00, 31.05it/s]                    \n",
      "Evaluate: Epoch [8/100]: 100%|██████████████████████████████| 4/4 [00:00<00:00, 82.40it/s]                      \n"
     ]
    },
    {
     "name": "stdout",
     "output_type": "stream",
     "text": [
      "VALID \t: Summary: Loss: 1.0982 Accuracy: 0.5200\n",
      "TRAIN \t: Summary: Loss: 1.1457 Accuracy: 0.5035\n"
     ]
    },
    {
     "name": "stderr",
     "output_type": "stream",
     "text": [
      "Training: Epoch [9/100]: 100%|██████████████████████████████| 16/16 [00:00<00:00, 30.81it/s]                    \n",
      "Evaluate: Epoch [9/100]: 100%|██████████████████████████████| 4/4 [00:00<00:00, 81.48it/s]                      \n"
     ]
    },
    {
     "name": "stdout",
     "output_type": "stream",
     "text": [
      "VALID \t: Summary: Loss: 1.0765 Accuracy: 0.5200\n",
      "TRAIN \t: Summary: Loss: 1.1096 Accuracy: 0.5225\n"
     ]
    },
    {
     "name": "stderr",
     "output_type": "stream",
     "text": [
      "Training: Epoch [10/100]: 100%|██████████████████████████████| 16/16 [00:00<00:00, 31.44it/s]                   \n",
      "Evaluate: Epoch [10/100]: 100%|██████████████████████████████| 4/4 [00:00<00:00, 81.44it/s]                     \n"
     ]
    },
    {
     "name": "stdout",
     "output_type": "stream",
     "text": [
      "VALID \t: Summary: Loss: 1.0553 Accuracy: 0.5400\n",
      "TRAIN \t: Summary: Loss: 1.0913 Accuracy: 0.5315\n"
     ]
    },
    {
     "name": "stderr",
     "output_type": "stream",
     "text": [
      "Training: Epoch [11/100]: 100%|██████████████████████████████| 16/16 [00:00<00:00, 31.19it/s]                   \n",
      "Evaluate: Epoch [11/100]: 100%|██████████████████████████████| 4/4 [00:00<00:00, 57.97it/s]                     \n"
     ]
    },
    {
     "name": "stdout",
     "output_type": "stream",
     "text": [
      "VALID \t: Summary: Loss: 1.0387 Accuracy: 0.5480\n",
      "TRAIN \t: Summary: Loss: 1.0750 Accuracy: 0.5245\n"
     ]
    },
    {
     "name": "stderr",
     "output_type": "stream",
     "text": [
      "Training: Epoch [12/100]: 100%|██████████████████████████████| 16/16 [00:00<00:00, 30.93it/s]                   \n",
      "Evaluate: Epoch [12/100]: 100%|██████████████████████████████| 4/4 [00:00<00:00, 82.28it/s]                     \n"
     ]
    },
    {
     "name": "stdout",
     "output_type": "stream",
     "text": [
      "VALID \t: Summary: Loss: 1.0230 Accuracy: 0.5500\n",
      "TRAIN \t: Summary: Loss: 1.0474 Accuracy: 0.5545\n"
     ]
    },
    {
     "name": "stderr",
     "output_type": "stream",
     "text": [
      "Training: Epoch [13/100]: 100%|██████████████████████████████| 16/16 [00:00<00:00, 31.09it/s]                   \n",
      "Evaluate: Epoch [13/100]: 100%|██████████████████████████████| 4/4 [00:00<00:00, 81.93it/s]                     \n"
     ]
    },
    {
     "name": "stdout",
     "output_type": "stream",
     "text": [
      "VALID \t: Summary: Loss: 1.0119 Accuracy: 0.5580\n",
      "TRAIN \t: Summary: Loss: 1.0462 Accuracy: 0.5500\n"
     ]
    },
    {
     "name": "stderr",
     "output_type": "stream",
     "text": [
      "Training: Epoch [14/100]: 100%|██████████████████████████████| 16/16 [00:00<00:00, 31.13it/s]                   \n",
      "Evaluate: Epoch [14/100]: 100%|██████████████████████████████| 4/4 [00:00<00:00, 81.03it/s]                     \n"
     ]
    },
    {
     "name": "stdout",
     "output_type": "stream",
     "text": [
      "VALID \t: Summary: Loss: 1.0012 Accuracy: 0.5740\n",
      "TRAIN \t: Summary: Loss: 1.0265 Accuracy: 0.5540\n"
     ]
    },
    {
     "name": "stderr",
     "output_type": "stream",
     "text": [
      "Training: Epoch [15/100]: 100%|██████████████████████████████| 16/16 [00:00<00:00, 31.28it/s]                   \n",
      "Evaluate: Epoch [15/100]: 100%|██████████████████████████████| 4/4 [00:00<00:00, 79.74it/s]                     \n"
     ]
    },
    {
     "name": "stdout",
     "output_type": "stream",
     "text": [
      "VALID \t: Summary: Loss: 0.9876 Accuracy: 0.5880\n",
      "TRAIN \t: Summary: Loss: 1.0051 Accuracy: 0.5740\n"
     ]
    },
    {
     "name": "stderr",
     "output_type": "stream",
     "text": [
      "Training: Epoch [16/100]: 100%|██████████████████████████████| 16/16 [00:00<00:00, 31.15it/s]                   \n",
      "Evaluate: Epoch [16/100]: 100%|██████████████████████████████| 4/4 [00:00<00:00, 82.71it/s]                     \n"
     ]
    },
    {
     "name": "stdout",
     "output_type": "stream",
     "text": [
      "VALID \t: Summary: Loss: 0.9768 Accuracy: 0.5960\n",
      "TRAIN \t: Summary: Loss: 0.9980 Accuracy: 0.5800\n"
     ]
    },
    {
     "name": "stderr",
     "output_type": "stream",
     "text": [
      "Training: Epoch [17/100]: 100%|██████████████████████████████| 16/16 [00:00<00:00, 31.02it/s]                   \n",
      "Evaluate: Epoch [17/100]: 100%|██████████████████████████████| 4/4 [00:00<00:00, 82.35it/s]                     \n"
     ]
    },
    {
     "name": "stdout",
     "output_type": "stream",
     "text": [
      "VALID \t: Summary: Loss: 0.9692 Accuracy: 0.6140\n",
      "TRAIN \t: Summary: Loss: 0.9825 Accuracy: 0.5780\n"
     ]
    },
    {
     "name": "stderr",
     "output_type": "stream",
     "text": [
      "Training: Epoch [18/100]: 100%|██████████████████████████████| 16/16 [00:00<00:00, 31.20it/s]                   \n",
      "Evaluate: Epoch [18/100]: 100%|██████████████████████████████| 4/4 [00:00<00:00, 81.45it/s]                     \n"
     ]
    },
    {
     "name": "stdout",
     "output_type": "stream",
     "text": [
      "VALID \t: Summary: Loss: 0.9551 Accuracy: 0.6180\n",
      "TRAIN \t: Summary: Loss: 0.9801 Accuracy: 0.5935\n"
     ]
    },
    {
     "name": "stderr",
     "output_type": "stream",
     "text": [
      "Training: Epoch [19/100]: 100%|██████████████████████████████| 16/16 [00:00<00:00, 31.14it/s]                   \n",
      "Evaluate: Epoch [19/100]: 100%|██████████████████████████████| 4/4 [00:00<00:00, 80.89it/s]                     \n"
     ]
    },
    {
     "name": "stdout",
     "output_type": "stream",
     "text": [
      "VALID \t: Summary: Loss: 0.9505 Accuracy: 0.6180\n",
      "TRAIN \t: Summary: Loss: 0.9647 Accuracy: 0.5970\n"
     ]
    },
    {
     "name": "stderr",
     "output_type": "stream",
     "text": [
      "Training: Epoch [20/100]: 100%|██████████████████████████████| 16/16 [00:00<00:00, 31.06it/s]                   \n",
      "Evaluate: Epoch [20/100]: 100%|██████████████████████████████| 4/4 [00:00<00:00, 80.55it/s]                     \n"
     ]
    },
    {
     "name": "stdout",
     "output_type": "stream",
     "text": [
      "VALID \t: Summary: Loss: 0.9441 Accuracy: 0.6160\n",
      "TRAIN \t: Summary: Loss: 0.9435 Accuracy: 0.6090\n"
     ]
    },
    {
     "name": "stderr",
     "output_type": "stream",
     "text": [
      "Training: Epoch [21/100]: 100%|██████████████████████████████| 16/16 [00:00<00:00, 31.22it/s]                   \n",
      "Evaluate: Epoch [21/100]: 100%|██████████████████████████████| 4/4 [00:00<00:00, 82.42it/s]                     \n"
     ]
    },
    {
     "name": "stdout",
     "output_type": "stream",
     "text": [
      "VALID \t: Summary: Loss: 0.9305 Accuracy: 0.6180\n",
      "TRAIN \t: Summary: Loss: 0.9508 Accuracy: 0.5985\n"
     ]
    },
    {
     "name": "stderr",
     "output_type": "stream",
     "text": [
      "Training: Epoch [22/100]: 100%|██████████████████████████████| 16/16 [00:00<00:00, 31.35it/s]                   \n",
      "Evaluate: Epoch [22/100]: 100%|██████████████████████████████| 4/4 [00:00<00:00, 80.48it/s]                     \n"
     ]
    },
    {
     "name": "stdout",
     "output_type": "stream",
     "text": [
      "VALID \t: Summary: Loss: 0.9233 Accuracy: 0.6340\n",
      "TRAIN \t: Summary: Loss: 0.9352 Accuracy: 0.6000\n"
     ]
    },
    {
     "name": "stderr",
     "output_type": "stream",
     "text": [
      "Training: Epoch [23/100]: 100%|██████████████████████████████| 16/16 [00:00<00:00, 31.21it/s]                   \n",
      "Evaluate: Epoch [23/100]: 100%|██████████████████████████████| 4/4 [00:00<00:00, 78.10it/s]                     \n"
     ]
    },
    {
     "name": "stdout",
     "output_type": "stream",
     "text": [
      "VALID \t: Summary: Loss: 0.9180 Accuracy: 0.6240\n",
      "TRAIN \t: Summary: Loss: 0.9350 Accuracy: 0.6055\n"
     ]
    },
    {
     "name": "stderr",
     "output_type": "stream",
     "text": [
      "Training: Epoch [24/100]: 100%|██████████████████████████████| 16/16 [00:00<00:00, 30.96it/s]                   \n",
      "Evaluate: Epoch [24/100]: 100%|██████████████████████████████| 4/4 [00:00<00:00, 82.29it/s]                     \n"
     ]
    },
    {
     "name": "stdout",
     "output_type": "stream",
     "text": [
      "VALID \t: Summary: Loss: 0.9096 Accuracy: 0.6240\n",
      "TRAIN \t: Summary: Loss: 0.9148 Accuracy: 0.6175\n"
     ]
    },
    {
     "name": "stderr",
     "output_type": "stream",
     "text": [
      "Training: Epoch [25/100]: 100%|██████████████████████████████| 16/16 [00:00<00:00, 31.35it/s]                   \n",
      "Evaluate: Epoch [25/100]: 100%|██████████████████████████████| 4/4 [00:00<00:00, 82.00it/s]                     \n"
     ]
    },
    {
     "name": "stdout",
     "output_type": "stream",
     "text": [
      "VALID \t: Summary: Loss: 0.9009 Accuracy: 0.6300\n",
      "TRAIN \t: Summary: Loss: 0.9208 Accuracy: 0.6205\n"
     ]
    },
    {
     "name": "stderr",
     "output_type": "stream",
     "text": [
      "Training: Epoch [26/100]: 100%|██████████████████████████████| 16/16 [00:00<00:00, 31.11it/s]                   \n",
      "Evaluate: Epoch [26/100]: 100%|██████████████████████████████| 4/4 [00:00<00:00, 79.34it/s]                     \n"
     ]
    },
    {
     "name": "stdout",
     "output_type": "stream",
     "text": [
      "VALID \t: Summary: Loss: 0.8997 Accuracy: 0.6320\n",
      "TRAIN \t: Summary: Loss: 0.9128 Accuracy: 0.6225\n"
     ]
    },
    {
     "name": "stderr",
     "output_type": "stream",
     "text": [
      "Training: Epoch [27/100]: 100%|██████████████████████████████| 16/16 [00:00<00:00, 31.07it/s]                   \n",
      "Evaluate: Epoch [27/100]: 100%|██████████████████████████████| 4/4 [00:00<00:00, 79.34it/s]                     \n"
     ]
    },
    {
     "name": "stdout",
     "output_type": "stream",
     "text": [
      "VALID \t: Summary: Loss: 0.8959 Accuracy: 0.6340\n",
      "TRAIN \t: Summary: Loss: 0.8920 Accuracy: 0.6340\n"
     ]
    },
    {
     "name": "stderr",
     "output_type": "stream",
     "text": [
      "Training: Epoch [28/100]: 100%|██████████████████████████████| 16/16 [00:00<00:00, 29.84it/s]                   \n",
      "Evaluate: Epoch [28/100]: 100%|██████████████████████████████| 4/4 [00:00<00:00, 78.11it/s]                     \n"
     ]
    },
    {
     "name": "stdout",
     "output_type": "stream",
     "text": [
      "VALID \t: Summary: Loss: 0.8838 Accuracy: 0.6480\n",
      "TRAIN \t: Summary: Loss: 0.8921 Accuracy: 0.6215\n"
     ]
    },
    {
     "name": "stderr",
     "output_type": "stream",
     "text": [
      "Training: Epoch [29/100]: 100%|██████████████████████████████| 16/16 [00:00<00:00, 31.11it/s]                   \n",
      "Evaluate: Epoch [29/100]: 100%|██████████████████████████████| 4/4 [00:00<00:00, 82.02it/s]                     \n"
     ]
    },
    {
     "name": "stdout",
     "output_type": "stream",
     "text": [
      "VALID \t: Summary: Loss: 0.8867 Accuracy: 0.6360\n",
      "TRAIN \t: Summary: Loss: 0.8887 Accuracy: 0.6325\n"
     ]
    },
    {
     "name": "stderr",
     "output_type": "stream",
     "text": [
      "Training: Epoch [30/100]: 100%|██████████████████████████████| 16/16 [00:00<00:00, 31.43it/s]                   \n",
      "Evaluate: Epoch [30/100]: 100%|██████████████████████████████| 4/4 [00:00<00:00, 82.58it/s]                     \n"
     ]
    },
    {
     "name": "stdout",
     "output_type": "stream",
     "text": [
      "VALID \t: Summary: Loss: 0.8748 Accuracy: 0.6540\n",
      "TRAIN \t: Summary: Loss: 0.8770 Accuracy: 0.6380\n"
     ]
    },
    {
     "name": "stderr",
     "output_type": "stream",
     "text": [
      "Training: Epoch [31/100]: 100%|██████████████████████████████| 16/16 [00:00<00:00, 29.71it/s]                   \n",
      "Evaluate: Epoch [31/100]: 100%|██████████████████████████████| 4/4 [00:00<00:00, 79.91it/s]                     \n"
     ]
    },
    {
     "name": "stdout",
     "output_type": "stream",
     "text": [
      "VALID \t: Summary: Loss: 0.8701 Accuracy: 0.6500\n",
      "TRAIN \t: Summary: Loss: 0.8700 Accuracy: 0.6470\n"
     ]
    },
    {
     "name": "stderr",
     "output_type": "stream",
     "text": [
      "Training: Epoch [32/100]: 100%|██████████████████████████████| 16/16 [00:00<00:00, 31.10it/s]                   \n",
      "Evaluate: Epoch [32/100]: 100%|██████████████████████████████| 4/4 [00:00<00:00, 82.47it/s]                     \n"
     ]
    },
    {
     "name": "stdout",
     "output_type": "stream",
     "text": [
      "VALID \t: Summary: Loss: 0.8663 Accuracy: 0.6480\n",
      "TRAIN \t: Summary: Loss: 0.8590 Accuracy: 0.6440\n"
     ]
    },
    {
     "name": "stderr",
     "output_type": "stream",
     "text": [
      "Training: Epoch [33/100]: 100%|██████████████████████████████| 16/16 [00:00<00:00, 29.64it/s]                   \n",
      "Evaluate: Epoch [33/100]: 100%|██████████████████████████████| 4/4 [00:00<00:00, 79.05it/s]                     \n"
     ]
    },
    {
     "name": "stdout",
     "output_type": "stream",
     "text": [
      "VALID \t: Summary: Loss: 0.8567 Accuracy: 0.6580\n",
      "TRAIN \t: Summary: Loss: 0.8590 Accuracy: 0.6405\n"
     ]
    },
    {
     "name": "stderr",
     "output_type": "stream",
     "text": [
      "Training: Epoch [34/100]: 100%|██████████████████████████████| 16/16 [00:00<00:00, 30.71it/s]                   \n",
      "Evaluate: Epoch [34/100]: 100%|██████████████████████████████| 4/4 [00:00<00:00, 77.89it/s]                     \n"
     ]
    },
    {
     "name": "stdout",
     "output_type": "stream",
     "text": [
      "VALID \t: Summary: Loss: 0.8604 Accuracy: 0.6620\n",
      "TRAIN \t: Summary: Loss: 0.8550 Accuracy: 0.6575\n"
     ]
    },
    {
     "name": "stderr",
     "output_type": "stream",
     "text": [
      "Training: Epoch [35/100]: 100%|██████████████████████████████| 16/16 [00:00<00:00, 30.71it/s]                   \n",
      "Evaluate: Epoch [35/100]: 100%|██████████████████████████████| 4/4 [00:00<00:00, 75.56it/s]                     \n"
     ]
    },
    {
     "name": "stdout",
     "output_type": "stream",
     "text": [
      "VALID \t: Summary: Loss: 0.8468 Accuracy: 0.6640\n",
      "TRAIN \t: Summary: Loss: 0.8636 Accuracy: 0.6365\n"
     ]
    },
    {
     "name": "stderr",
     "output_type": "stream",
     "text": [
      "Training: Epoch [36/100]: 100%|██████████████████████████████| 16/16 [00:00<00:00, 30.50it/s]                   \n",
      "Evaluate: Epoch [36/100]: 100%|██████████████████████████████| 4/4 [00:00<00:00, 79.59it/s]                     \n"
     ]
    },
    {
     "name": "stdout",
     "output_type": "stream",
     "text": [
      "VALID \t: Summary: Loss: 0.8423 Accuracy: 0.6680\n",
      "TRAIN \t: Summary: Loss: 0.8512 Accuracy: 0.6585\n"
     ]
    },
    {
     "name": "stderr",
     "output_type": "stream",
     "text": [
      "Training: Epoch [37/100]: 100%|██████████████████████████████| 16/16 [00:00<00:00, 30.60it/s]                   \n",
      "Evaluate: Epoch [37/100]: 100%|██████████████████████████████| 4/4 [00:00<00:00, 79.99it/s]                     \n"
     ]
    },
    {
     "name": "stdout",
     "output_type": "stream",
     "text": [
      "VALID \t: Summary: Loss: 0.8428 Accuracy: 0.6720\n",
      "TRAIN \t: Summary: Loss: 0.8443 Accuracy: 0.6460\n"
     ]
    },
    {
     "name": "stderr",
     "output_type": "stream",
     "text": [
      "Training: Epoch [38/100]: 100%|██████████████████████████████| 16/16 [00:00<00:00, 30.77it/s]                   \n",
      "Evaluate: Epoch [38/100]: 100%|██████████████████████████████| 4/4 [00:00<00:00, 79.34it/s]                     \n"
     ]
    },
    {
     "name": "stdout",
     "output_type": "stream",
     "text": [
      "VALID \t: Summary: Loss: 0.8416 Accuracy: 0.6780\n",
      "TRAIN \t: Summary: Loss: 0.8315 Accuracy: 0.6650\n"
     ]
    },
    {
     "name": "stderr",
     "output_type": "stream",
     "text": [
      "Training: Epoch [39/100]: 100%|██████████████████████████████| 16/16 [00:00<00:00, 30.63it/s]                   \n",
      "Evaluate: Epoch [39/100]: 100%|██████████████████████████████| 4/4 [00:00<00:00, 82.40it/s]                     \n"
     ]
    },
    {
     "name": "stdout",
     "output_type": "stream",
     "text": [
      "VALID \t: Summary: Loss: 0.8357 Accuracy: 0.6720\n",
      "TRAIN \t: Summary: Loss: 0.8429 Accuracy: 0.6595\n"
     ]
    },
    {
     "name": "stderr",
     "output_type": "stream",
     "text": [
      "Training: Epoch [40/100]: 100%|██████████████████████████████| 16/16 [00:00<00:00, 30.31it/s]                   \n",
      "Evaluate: Epoch [40/100]: 100%|██████████████████████████████| 4/4 [00:00<00:00, 75.38it/s]                     \n"
     ]
    },
    {
     "name": "stdout",
     "output_type": "stream",
     "text": [
      "VALID \t: Summary: Loss: 0.8276 Accuracy: 0.6820\n",
      "TRAIN \t: Summary: Loss: 0.8333 Accuracy: 0.6615\n"
     ]
    },
    {
     "name": "stderr",
     "output_type": "stream",
     "text": [
      "Training: Epoch [41/100]: 100%|██████████████████████████████| 16/16 [00:00<00:00, 27.18it/s]                   \n",
      "Evaluate: Epoch [41/100]: 100%|██████████████████████████████| 4/4 [00:00<00:00, 74.23it/s]                     \n"
     ]
    },
    {
     "name": "stdout",
     "output_type": "stream",
     "text": [
      "VALID \t: Summary: Loss: 0.8311 Accuracy: 0.6800\n",
      "TRAIN \t: Summary: Loss: 0.8253 Accuracy: 0.6605\n"
     ]
    },
    {
     "name": "stderr",
     "output_type": "stream",
     "text": [
      "Training: Epoch [42/100]: 100%|██████████████████████████████| 16/16 [00:00<00:00, 29.83it/s]                   \n",
      "Evaluate: Epoch [42/100]: 100%|██████████████████████████████| 4/4 [00:00<00:00, 82.95it/s]                     \n"
     ]
    },
    {
     "name": "stdout",
     "output_type": "stream",
     "text": [
      "VALID \t: Summary: Loss: 0.8231 Accuracy: 0.6820\n",
      "TRAIN \t: Summary: Loss: 0.8287 Accuracy: 0.6565\n"
     ]
    },
    {
     "name": "stderr",
     "output_type": "stream",
     "text": [
      "Training: Epoch [43/100]: 100%|██████████████████████████████| 16/16 [00:00<00:00, 31.21it/s]                   \n",
      "Evaluate: Epoch [43/100]: 100%|██████████████████████████████| 4/4 [00:00<00:00, 83.05it/s]                     \n"
     ]
    },
    {
     "name": "stdout",
     "output_type": "stream",
     "text": [
      "VALID \t: Summary: Loss: 0.8195 Accuracy: 0.6800\n",
      "TRAIN \t: Summary: Loss: 0.8209 Accuracy: 0.6735\n"
     ]
    },
    {
     "name": "stderr",
     "output_type": "stream",
     "text": [
      "Training: Epoch [44/100]: 100%|██████████████████████████████| 16/16 [00:00<00:00, 31.30it/s]                   \n",
      "Evaluate: Epoch [44/100]: 100%|██████████████████████████████| 4/4 [00:00<00:00, 82.29it/s]                     \n"
     ]
    },
    {
     "name": "stdout",
     "output_type": "stream",
     "text": [
      "VALID \t: Summary: Loss: 0.8166 Accuracy: 0.6880\n",
      "TRAIN \t: Summary: Loss: 0.8146 Accuracy: 0.6630\n"
     ]
    },
    {
     "name": "stderr",
     "output_type": "stream",
     "text": [
      "Training: Epoch [45/100]: 100%|██████████████████████████████| 16/16 [00:00<00:00, 31.29it/s]                   \n",
      "Evaluate: Epoch [45/100]: 100%|██████████████████████████████| 4/4 [00:00<00:00, 81.72it/s]                     \n"
     ]
    },
    {
     "name": "stdout",
     "output_type": "stream",
     "text": [
      "VALID \t: Summary: Loss: 0.8164 Accuracy: 0.6840\n",
      "TRAIN \t: Summary: Loss: 0.8209 Accuracy: 0.6650\n"
     ]
    },
    {
     "name": "stderr",
     "output_type": "stream",
     "text": [
      "Training: Epoch [46/100]: 100%|██████████████████████████████| 16/16 [00:00<00:00, 31.35it/s]                   \n",
      "Evaluate: Epoch [46/100]: 100%|██████████████████████████████| 4/4 [00:00<00:00, 81.02it/s]                     \n"
     ]
    },
    {
     "name": "stdout",
     "output_type": "stream",
     "text": [
      "VALID \t: Summary: Loss: 0.8201 Accuracy: 0.6880\n",
      "TRAIN \t: Summary: Loss: 0.8051 Accuracy: 0.6760\n"
     ]
    },
    {
     "name": "stderr",
     "output_type": "stream",
     "text": [
      "Training: Epoch [47/100]: 100%|██████████████████████████████| 16/16 [00:00<00:00, 31.33it/s]                   \n",
      "Evaluate: Epoch [47/100]: 100%|██████████████████████████████| 4/4 [00:00<00:00, 79.57it/s]                     \n"
     ]
    },
    {
     "name": "stdout",
     "output_type": "stream",
     "text": [
      "VALID \t: Summary: Loss: 0.8143 Accuracy: 0.6840\n",
      "TRAIN \t: Summary: Loss: 0.8078 Accuracy: 0.6780\n"
     ]
    },
    {
     "name": "stderr",
     "output_type": "stream",
     "text": [
      "Training: Epoch [48/100]: 100%|██████████████████████████████| 16/16 [00:00<00:00, 31.15it/s]                   \n",
      "Evaluate: Epoch [48/100]: 100%|██████████████████████████████| 4/4 [00:00<00:00, 82.08it/s]                     \n"
     ]
    },
    {
     "name": "stdout",
     "output_type": "stream",
     "text": [
      "VALID \t: Summary: Loss: 0.8115 Accuracy: 0.6800\n",
      "TRAIN \t: Summary: Loss: 0.8195 Accuracy: 0.6555\n"
     ]
    },
    {
     "name": "stderr",
     "output_type": "stream",
     "text": [
      "Training: Epoch [49/100]: 100%|██████████████████████████████| 16/16 [00:00<00:00, 31.25it/s]                   \n",
      "Evaluate: Epoch [49/100]: 100%|██████████████████████████████| 4/4 [00:00<00:00, 79.81it/s]                     \n"
     ]
    },
    {
     "name": "stdout",
     "output_type": "stream",
     "text": [
      "VALID \t: Summary: Loss: 0.8103 Accuracy: 0.6900\n",
      "TRAIN \t: Summary: Loss: 0.7933 Accuracy: 0.6790\n"
     ]
    },
    {
     "name": "stderr",
     "output_type": "stream",
     "text": [
      "Training: Epoch [50/100]: 100%|██████████████████████████████| 16/16 [00:00<00:00, 31.01it/s]                   \n",
      "Evaluate: Epoch [50/100]: 100%|██████████████████████████████| 4/4 [00:00<00:00, 82.18it/s]                     \n"
     ]
    },
    {
     "name": "stdout",
     "output_type": "stream",
     "text": [
      "VALID \t: Summary: Loss: 0.8065 Accuracy: 0.6840\n",
      "TRAIN \t: Summary: Loss: 0.7798 Accuracy: 0.6815\n"
     ]
    },
    {
     "name": "stderr",
     "output_type": "stream",
     "text": [
      "Training: Epoch [51/100]: 100%|██████████████████████████████| 16/16 [00:00<00:00, 31.17it/s]                   \n",
      "Evaluate: Epoch [51/100]: 100%|██████████████████████████████| 4/4 [00:00<00:00, 81.29it/s]                     \n"
     ]
    },
    {
     "name": "stdout",
     "output_type": "stream",
     "text": [
      "VALID \t: Summary: Loss: 0.8070 Accuracy: 0.6820\n",
      "TRAIN \t: Summary: Loss: 0.8088 Accuracy: 0.6635\n"
     ]
    },
    {
     "name": "stderr",
     "output_type": "stream",
     "text": [
      "Training: Epoch [52/100]: 100%|██████████████████████████████| 16/16 [00:00<00:00, 31.17it/s]                   \n",
      "Evaluate: Epoch [52/100]: 100%|██████████████████████████████| 4/4 [00:00<00:00, 82.15it/s]                     \n"
     ]
    },
    {
     "name": "stdout",
     "output_type": "stream",
     "text": [
      "VALID \t: Summary: Loss: 0.8075 Accuracy: 0.6800\n",
      "TRAIN \t: Summary: Loss: 0.7900 Accuracy: 0.6855\n"
     ]
    },
    {
     "name": "stderr",
     "output_type": "stream",
     "text": [
      "Training: Epoch [53/100]: 100%|██████████████████████████████| 16/16 [00:00<00:00, 31.08it/s]                   \n",
      "Evaluate: Epoch [53/100]: 100%|██████████████████████████████| 4/4 [00:00<00:00, 80.77it/s]                     \n"
     ]
    },
    {
     "name": "stdout",
     "output_type": "stream",
     "text": [
      "VALID \t: Summary: Loss: 0.8075 Accuracy: 0.6820\n",
      "TRAIN \t: Summary: Loss: 0.7924 Accuracy: 0.6705\n"
     ]
    },
    {
     "name": "stderr",
     "output_type": "stream",
     "text": [
      "Training: Epoch [54/100]: 100%|██████████████████████████████| 16/16 [00:00<00:00, 30.90it/s]                   \n",
      "Evaluate: Epoch [54/100]: 100%|██████████████████████████████| 4/4 [00:00<00:00, 81.73it/s]                     \n"
     ]
    },
    {
     "name": "stdout",
     "output_type": "stream",
     "text": [
      "VALID \t: Summary: Loss: 0.8078 Accuracy: 0.6820\n",
      "TRAIN \t: Summary: Loss: 0.8074 Accuracy: 0.6725\n"
     ]
    },
    {
     "name": "stderr",
     "output_type": "stream",
     "text": [
      "Training: Epoch [55/100]: 100%|██████████████████████████████| 16/16 [00:00<00:00, 30.83it/s]                   \n",
      "Evaluate: Epoch [55/100]: 100%|██████████████████████████████| 4/4 [00:00<00:00, 81.68it/s]                     \n"
     ]
    },
    {
     "name": "stdout",
     "output_type": "stream",
     "text": [
      "VALID \t: Summary: Loss: 0.8067 Accuracy: 0.6840\n",
      "TRAIN \t: Summary: Loss: 0.7953 Accuracy: 0.6735\n"
     ]
    },
    {
     "name": "stderr",
     "output_type": "stream",
     "text": [
      "Training: Epoch [56/100]: 100%|██████████████████████████████| 16/16 [00:00<00:00, 30.74it/s]                   \n",
      "Evaluate: Epoch [56/100]: 100%|██████████████████████████████| 4/4 [00:00<00:00, 81.07it/s]                     \n"
     ]
    },
    {
     "name": "stdout",
     "output_type": "stream",
     "text": [
      "VALID \t: Summary: Loss: 0.8081 Accuracy: 0.6860\n",
      "TRAIN \t: Summary: Loss: 0.7921 Accuracy: 0.6820\n"
     ]
    },
    {
     "name": "stderr",
     "output_type": "stream",
     "text": [
      "Training: Epoch [57/100]: 100%|██████████████████████████████| 16/16 [00:00<00:00, 31.11it/s]                   \n",
      "Evaluate: Epoch [57/100]: 100%|██████████████████████████████| 4/4 [00:00<00:00, 80.49it/s]                     \n"
     ]
    },
    {
     "name": "stdout",
     "output_type": "stream",
     "text": [
      "VALID \t: Summary: Loss: 0.8073 Accuracy: 0.6820\n",
      "TRAIN \t: Summary: Loss: 0.7862 Accuracy: 0.6855\n"
     ]
    },
    {
     "name": "stderr",
     "output_type": "stream",
     "text": [
      "Training: Epoch [58/100]: 100%|██████████████████████████████| 16/16 [00:00<00:00, 30.87it/s]                   \n",
      "Evaluate: Epoch [58/100]: 100%|██████████████████████████████| 4/4 [00:00<00:00, 82.77it/s]                     \n"
     ]
    },
    {
     "name": "stdout",
     "output_type": "stream",
     "text": [
      "VALID \t: Summary: Loss: 0.8060 Accuracy: 0.6780\n",
      "TRAIN \t: Summary: Loss: 0.7886 Accuracy: 0.6770\n"
     ]
    },
    {
     "name": "stderr",
     "output_type": "stream",
     "text": [
      "Training: Epoch [59/100]: 100%|██████████████████████████████| 16/16 [00:00<00:00, 30.82it/s]                   \n",
      "Evaluate: Epoch [59/100]: 100%|██████████████████████████████| 4/4 [00:00<00:00, 81.94it/s]                     \n"
     ]
    },
    {
     "name": "stdout",
     "output_type": "stream",
     "text": [
      "VALID \t: Summary: Loss: 0.8054 Accuracy: 0.6820\n",
      "TRAIN \t: Summary: Loss: 0.7996 Accuracy: 0.6645\n"
     ]
    },
    {
     "name": "stderr",
     "output_type": "stream",
     "text": [
      "Training: Epoch [60/100]: 100%|██████████████████████████████| 16/16 [00:00<00:00, 31.01it/s]                   \n",
      "Evaluate: Epoch [60/100]: 100%|██████████████████████████████| 4/4 [00:00<00:00, 78.01it/s]                     \n"
     ]
    },
    {
     "name": "stdout",
     "output_type": "stream",
     "text": [
      "VALID \t: Summary: Loss: 0.8068 Accuracy: 0.6820\n",
      "TRAIN \t: Summary: Loss: 0.7925 Accuracy: 0.6640\n"
     ]
    },
    {
     "name": "stderr",
     "output_type": "stream",
     "text": [
      "Training: Epoch [61/100]: 100%|██████████████████████████████| 16/16 [00:00<00:00, 29.71it/s]                   \n",
      "Evaluate: Epoch [61/100]: 100%|██████████████████████████████| 4/4 [00:00<00:00, 76.64it/s]                     \n"
     ]
    },
    {
     "name": "stdout",
     "output_type": "stream",
     "text": [
      "VALID \t: Summary: Loss: 0.8069 Accuracy: 0.6840\n",
      "TRAIN \t: Summary: Loss: 0.8058 Accuracy: 0.6705\n"
     ]
    },
    {
     "name": "stderr",
     "output_type": "stream",
     "text": [
      "Training: Epoch [62/100]: 100%|██████████████████████████████| 16/16 [00:00<00:00, 30.05it/s]                   \n",
      "Evaluate: Epoch [62/100]: 100%|██████████████████████████████| 4/4 [00:00<00:00, 73.43it/s]                     \n"
     ]
    },
    {
     "name": "stdout",
     "output_type": "stream",
     "text": [
      "VALID \t: Summary: Loss: 0.8064 Accuracy: 0.6820\n",
      "TRAIN \t: Summary: Loss: 0.7995 Accuracy: 0.6700\n"
     ]
    },
    {
     "name": "stderr",
     "output_type": "stream",
     "text": [
      "Training: Epoch [63/100]: 100%|██████████████████████████████| 16/16 [00:00<00:00, 26.41it/s]                   \n",
      "Evaluate: Epoch [63/100]: 100%|██████████████████████████████| 4/4 [00:00<00:00, 82.02it/s]                     \n"
     ]
    },
    {
     "name": "stdout",
     "output_type": "stream",
     "text": [
      "VALID \t: Summary: Loss: 0.8060 Accuracy: 0.6840\n",
      "TRAIN \t: Summary: Loss: 0.7805 Accuracy: 0.6760\n"
     ]
    },
    {
     "name": "stderr",
     "output_type": "stream",
     "text": [
      "Training: Epoch [64/100]: 100%|██████████████████████████████| 16/16 [00:00<00:00, 31.18it/s]                   \n",
      "Evaluate: Epoch [64/100]: 100%|██████████████████████████████| 4/4 [00:00<00:00, 82.26it/s]                     \n"
     ]
    },
    {
     "name": "stdout",
     "output_type": "stream",
     "text": [
      "VALID \t: Summary: Loss: 0.8067 Accuracy: 0.6840\n",
      "TRAIN \t: Summary: Loss: 0.7897 Accuracy: 0.6790\n"
     ]
    },
    {
     "name": "stderr",
     "output_type": "stream",
     "text": [
      "Training: Epoch [65/100]: 100%|██████████████████████████████| 16/16 [00:00<00:00, 31.18it/s]                   \n",
      "Evaluate: Epoch [65/100]: 100%|██████████████████████████████| 4/4 [00:00<00:00, 81.84it/s]                     \n"
     ]
    },
    {
     "name": "stdout",
     "output_type": "stream",
     "text": [
      "VALID \t: Summary: Loss: 0.8062 Accuracy: 0.6840\n",
      "TRAIN \t: Summary: Loss: 0.8003 Accuracy: 0.6660\n"
     ]
    },
    {
     "name": "stderr",
     "output_type": "stream",
     "text": [
      "Training: Epoch [66/100]: 100%|██████████████████████████████| 16/16 [00:00<00:00, 31.24it/s]                   \n",
      "Evaluate: Epoch [66/100]: 100%|██████████████████████████████| 4/4 [00:00<00:00, 82.50it/s]                     \n"
     ]
    },
    {
     "name": "stdout",
     "output_type": "stream",
     "text": [
      "VALID \t: Summary: Loss: 0.8062 Accuracy: 0.6860\n",
      "TRAIN \t: Summary: Loss: 0.7998 Accuracy: 0.6775\n"
     ]
    },
    {
     "name": "stderr",
     "output_type": "stream",
     "text": [
      "Training: Epoch [67/100]: 100%|██████████████████████████████| 16/16 [00:00<00:00, 31.12it/s]                   \n",
      "Evaluate: Epoch [67/100]: 100%|██████████████████████████████| 4/4 [00:00<00:00, 81.43it/s]                     \n"
     ]
    },
    {
     "name": "stdout",
     "output_type": "stream",
     "text": [
      "VALID \t: Summary: Loss: 0.8049 Accuracy: 0.6880\n",
      "TRAIN \t: Summary: Loss: 0.7982 Accuracy: 0.6680\n"
     ]
    },
    {
     "name": "stderr",
     "output_type": "stream",
     "text": [
      "Training: Epoch [68/100]: 100%|██████████████████████████████| 16/16 [00:00<00:00, 31.09it/s]                   \n",
      "Evaluate: Epoch [68/100]: 100%|██████████████████████████████| 4/4 [00:00<00:00, 78.73it/s]                     \n"
     ]
    },
    {
     "name": "stdout",
     "output_type": "stream",
     "text": [
      "VALID \t: Summary: Loss: 0.8042 Accuracy: 0.6860\n",
      "TRAIN \t: Summary: Loss: 0.8024 Accuracy: 0.6660\n"
     ]
    },
    {
     "name": "stderr",
     "output_type": "stream",
     "text": [
      "Training: Epoch [69/100]: 100%|██████████████████████████████| 16/16 [00:00<00:00, 31.49it/s]                   \n",
      "Evaluate: Epoch [69/100]: 100%|██████████████████████████████| 4/4 [00:00<00:00, 81.04it/s]                     \n"
     ]
    },
    {
     "name": "stdout",
     "output_type": "stream",
     "text": [
      "VALID \t: Summary: Loss: 0.8022 Accuracy: 0.6840\n",
      "TRAIN \t: Summary: Loss: 0.7804 Accuracy: 0.6860\n"
     ]
    },
    {
     "name": "stderr",
     "output_type": "stream",
     "text": [
      "Training: Epoch [70/100]: 100%|██████████████████████████████| 16/16 [00:00<00:00, 31.23it/s]                   \n",
      "Evaluate: Epoch [70/100]: 100%|██████████████████████████████| 4/4 [00:00<00:00, 80.69it/s]                     \n"
     ]
    },
    {
     "name": "stdout",
     "output_type": "stream",
     "text": [
      "VALID \t: Summary: Loss: 0.8036 Accuracy: 0.6820\n",
      "TRAIN \t: Summary: Loss: 0.7767 Accuracy: 0.6865\n"
     ]
    },
    {
     "name": "stderr",
     "output_type": "stream",
     "text": [
      "Training: Epoch [71/100]: 100%|██████████████████████████████| 16/16 [00:00<00:00, 31.34it/s]                   \n",
      "Evaluate: Epoch [71/100]: 100%|██████████████████████████████| 4/4 [00:00<00:00, 82.20it/s]                     \n"
     ]
    },
    {
     "name": "stdout",
     "output_type": "stream",
     "text": [
      "VALID \t: Summary: Loss: 0.8030 Accuracy: 0.6840\n",
      "TRAIN \t: Summary: Loss: 0.7968 Accuracy: 0.6675\n"
     ]
    },
    {
     "name": "stderr",
     "output_type": "stream",
     "text": [
      "Training: Epoch [72/100]: 100%|██████████████████████████████| 16/16 [00:00<00:00, 31.25it/s]                   \n",
      "Evaluate: Epoch [72/100]: 100%|██████████████████████████████| 4/4 [00:00<00:00, 83.00it/s]                     \n"
     ]
    },
    {
     "name": "stdout",
     "output_type": "stream",
     "text": [
      "VALID \t: Summary: Loss: 0.8027 Accuracy: 0.6860\n",
      "TRAIN \t: Summary: Loss: 0.7875 Accuracy: 0.6855\n"
     ]
    },
    {
     "name": "stderr",
     "output_type": "stream",
     "text": [
      "Training: Epoch [73/100]: 100%|██████████████████████████████| 16/16 [00:00<00:00, 31.37it/s]                   \n",
      "Evaluate: Epoch [73/100]: 100%|██████████████████████████████| 4/4 [00:00<00:00, 81.54it/s]                     \n"
     ]
    },
    {
     "name": "stdout",
     "output_type": "stream",
     "text": [
      "VALID \t: Summary: Loss: 0.8022 Accuracy: 0.6860\n",
      "TRAIN \t: Summary: Loss: 0.7968 Accuracy: 0.6780\n"
     ]
    },
    {
     "name": "stderr",
     "output_type": "stream",
     "text": [
      "Training: Epoch [74/100]: 100%|██████████████████████████████| 16/16 [00:00<00:00, 31.23it/s]                   \n",
      "Evaluate: Epoch [74/100]: 100%|██████████████████████████████| 4/4 [00:00<00:00, 81.95it/s]                     \n"
     ]
    },
    {
     "name": "stdout",
     "output_type": "stream",
     "text": [
      "VALID \t: Summary: Loss: 0.8022 Accuracy: 0.6860\n",
      "TRAIN \t: Summary: Loss: 0.7951 Accuracy: 0.6710\n"
     ]
    },
    {
     "name": "stderr",
     "output_type": "stream",
     "text": [
      "Training: Epoch [75/100]: 100%|██████████████████████████████| 16/16 [00:00<00:00, 31.39it/s]                   \n",
      "Evaluate: Epoch [75/100]: 100%|██████████████████████████████| 4/4 [00:00<00:00, 81.65it/s]                     \n"
     ]
    },
    {
     "name": "stdout",
     "output_type": "stream",
     "text": [
      "VALID \t: Summary: Loss: 0.8029 Accuracy: 0.6900\n",
      "TRAIN \t: Summary: Loss: 0.7994 Accuracy: 0.6680\n"
     ]
    },
    {
     "name": "stderr",
     "output_type": "stream",
     "text": [
      "Training: Epoch [76/100]: 100%|██████████████████████████████| 16/16 [00:00<00:00, 31.30it/s]                   \n",
      "Evaluate: Epoch [76/100]: 100%|██████████████████████████████| 4/4 [00:00<00:00, 81.10it/s]                     \n"
     ]
    },
    {
     "name": "stdout",
     "output_type": "stream",
     "text": [
      "VALID \t: Summary: Loss: 0.8034 Accuracy: 0.6880\n",
      "TRAIN \t: Summary: Loss: 0.7983 Accuracy: 0.6640\n"
     ]
    },
    {
     "name": "stderr",
     "output_type": "stream",
     "text": [
      "Training: Epoch [77/100]: 100%|██████████████████████████████| 16/16 [00:00<00:00, 31.20it/s]                   \n",
      "Evaluate: Epoch [77/100]: 100%|██████████████████████████████| 4/4 [00:00<00:00, 82.38it/s]                     \n"
     ]
    },
    {
     "name": "stdout",
     "output_type": "stream",
     "text": [
      "VALID \t: Summary: Loss: 0.8021 Accuracy: 0.6860\n",
      "TRAIN \t: Summary: Loss: 0.7848 Accuracy: 0.6755\n"
     ]
    },
    {
     "name": "stderr",
     "output_type": "stream",
     "text": [
      "Training: Epoch [78/100]: 100%|██████████████████████████████| 16/16 [00:00<00:00, 30.61it/s]                   \n",
      "Evaluate: Epoch [78/100]: 100%|██████████████████████████████| 4/4 [00:00<00:00, 81.18it/s]                     \n"
     ]
    },
    {
     "name": "stdout",
     "output_type": "stream",
     "text": [
      "VALID \t: Summary: Loss: 0.8026 Accuracy: 0.6840\n",
      "TRAIN \t: Summary: Loss: 0.8004 Accuracy: 0.6840\n"
     ]
    },
    {
     "name": "stderr",
     "output_type": "stream",
     "text": [
      "Training: Epoch [79/100]: 100%|██████████████████████████████| 16/16 [00:00<00:00, 30.60it/s]                   \n",
      "Evaluate: Epoch [79/100]: 100%|██████████████████████████████| 4/4 [00:00<00:00, 82.04it/s]                     \n"
     ]
    },
    {
     "name": "stdout",
     "output_type": "stream",
     "text": [
      "VALID \t: Summary: Loss: 0.8034 Accuracy: 0.6880\n",
      "TRAIN \t: Summary: Loss: 0.7696 Accuracy: 0.6845\n"
     ]
    },
    {
     "name": "stderr",
     "output_type": "stream",
     "text": [
      "Training: Epoch [80/100]: 100%|██████████████████████████████| 16/16 [00:00<00:00, 30.72it/s]                   \n",
      "Evaluate: Epoch [80/100]: 100%|██████████████████████████████| 4/4 [00:00<00:00, 81.38it/s]                     \n"
     ]
    },
    {
     "name": "stdout",
     "output_type": "stream",
     "text": [
      "VALID \t: Summary: Loss: 0.8037 Accuracy: 0.6900\n",
      "TRAIN \t: Summary: Loss: 0.8005 Accuracy: 0.6675\n"
     ]
    },
    {
     "name": "stderr",
     "output_type": "stream",
     "text": [
      "Training: Epoch [81/100]: 100%|██████████████████████████████| 16/16 [00:00<00:00, 31.31it/s]                   \n",
      "Evaluate: Epoch [81/100]: 100%|██████████████████████████████| 4/4 [00:00<00:00, 81.72it/s]                     \n"
     ]
    },
    {
     "name": "stdout",
     "output_type": "stream",
     "text": [
      "VALID \t: Summary: Loss: 0.8026 Accuracy: 0.6880\n",
      "TRAIN \t: Summary: Loss: 0.7846 Accuracy: 0.6895\n"
     ]
    },
    {
     "name": "stderr",
     "output_type": "stream",
     "text": [
      "Training: Epoch [82/100]: 100%|██████████████████████████████| 16/16 [00:00<00:00, 30.11it/s]                   \n",
      "Evaluate: Epoch [82/100]: 100%|██████████████████████████████| 4/4 [00:00<00:00, 81.46it/s]                     \n"
     ]
    },
    {
     "name": "stdout",
     "output_type": "stream",
     "text": [
      "VALID \t: Summary: Loss: 0.8016 Accuracy: 0.6860\n",
      "TRAIN \t: Summary: Loss: 0.7863 Accuracy: 0.6755\n"
     ]
    },
    {
     "name": "stderr",
     "output_type": "stream",
     "text": [
      "Training: Epoch [83/100]: 100%|██████████████████████████████| 16/16 [00:00<00:00, 30.76it/s]                   \n",
      "Evaluate: Epoch [83/100]: 100%|██████████████████████████████| 4/4 [00:00<00:00, 79.55it/s]                     \n"
     ]
    },
    {
     "name": "stdout",
     "output_type": "stream",
     "text": [
      "VALID \t: Summary: Loss: 0.8003 Accuracy: 0.6840\n",
      "TRAIN \t: Summary: Loss: 0.7921 Accuracy: 0.6820\n"
     ]
    },
    {
     "name": "stderr",
     "output_type": "stream",
     "text": [
      "Training: Epoch [84/100]: 100%|██████████████████████████████| 16/16 [00:00<00:00, 30.70it/s]                   \n",
      "Evaluate: Epoch [84/100]: 100%|██████████████████████████████| 4/4 [00:00<00:00, 80.64it/s]                     \n"
     ]
    },
    {
     "name": "stdout",
     "output_type": "stream",
     "text": [
      "VALID \t: Summary: Loss: 0.8009 Accuracy: 0.6820\n",
      "TRAIN \t: Summary: Loss: 0.7936 Accuracy: 0.6705\n"
     ]
    },
    {
     "name": "stderr",
     "output_type": "stream",
     "text": [
      "Training: Epoch [85/100]: 100%|██████████████████████████████| 16/16 [00:00<00:00, 31.04it/s]                   \n",
      "Evaluate: Epoch [85/100]: 100%|██████████████████████████████| 4/4 [00:00<00:00, 74.34it/s]                     \n"
     ]
    },
    {
     "name": "stdout",
     "output_type": "stream",
     "text": [
      "VALID \t: Summary: Loss: 0.8004 Accuracy: 0.6860\n",
      "TRAIN \t: Summary: Loss: 0.7951 Accuracy: 0.6800\n"
     ]
    },
    {
     "name": "stderr",
     "output_type": "stream",
     "text": [
      "Training: Epoch [86/100]: 100%|██████████████████████████████| 16/16 [00:00<00:00, 30.98it/s]                   \n",
      "Evaluate: Epoch [86/100]: 100%|██████████████████████████████| 4/4 [00:00<00:00, 82.11it/s]                     \n"
     ]
    },
    {
     "name": "stdout",
     "output_type": "stream",
     "text": [
      "VALID \t: Summary: Loss: 0.8031 Accuracy: 0.6900\n",
      "TRAIN \t: Summary: Loss: 0.7927 Accuracy: 0.6645\n"
     ]
    },
    {
     "name": "stderr",
     "output_type": "stream",
     "text": [
      "Training: Epoch [87/100]: 100%|██████████████████████████████| 16/16 [00:00<00:00, 31.05it/s]                   \n",
      "Evaluate: Epoch [87/100]: 100%|██████████████████████████████| 4/4 [00:00<00:00, 82.00it/s]                     \n"
     ]
    },
    {
     "name": "stdout",
     "output_type": "stream",
     "text": [
      "VALID \t: Summary: Loss: 0.8032 Accuracy: 0.6900\n",
      "TRAIN \t: Summary: Loss: 0.7782 Accuracy: 0.6865\n"
     ]
    },
    {
     "name": "stderr",
     "output_type": "stream",
     "text": [
      "Training: Epoch [88/100]: 100%|██████████████████████████████| 16/16 [00:00<00:00, 31.11it/s]                   \n",
      "Evaluate: Epoch [88/100]: 100%|██████████████████████████████| 4/4 [00:00<00:00, 81.89it/s]                     \n"
     ]
    },
    {
     "name": "stdout",
     "output_type": "stream",
     "text": [
      "VALID \t: Summary: Loss: 0.8012 Accuracy: 0.6880\n",
      "TRAIN \t: Summary: Loss: 0.7937 Accuracy: 0.6830\n"
     ]
    },
    {
     "name": "stderr",
     "output_type": "stream",
     "text": [
      "Training: Epoch [89/100]: 100%|██████████████████████████████| 16/16 [00:00<00:00, 30.21it/s]                   \n",
      "Evaluate: Epoch [89/100]: 100%|██████████████████████████████| 4/4 [00:00<00:00, 79.79it/s]                     \n"
     ]
    },
    {
     "name": "stdout",
     "output_type": "stream",
     "text": [
      "VALID \t: Summary: Loss: 0.7997 Accuracy: 0.6800\n",
      "TRAIN \t: Summary: Loss: 0.7831 Accuracy: 0.6900\n"
     ]
    },
    {
     "name": "stderr",
     "output_type": "stream",
     "text": [
      "Training: Epoch [90/100]: 100%|██████████████████████████████| 16/16 [00:00<00:00, 30.23it/s]                   \n",
      "Evaluate: Epoch [90/100]: 100%|██████████████████████████████| 4/4 [00:00<00:00, 80.00it/s]                     \n"
     ]
    },
    {
     "name": "stdout",
     "output_type": "stream",
     "text": [
      "VALID \t: Summary: Loss: 0.7996 Accuracy: 0.6880\n",
      "TRAIN \t: Summary: Loss: 0.7882 Accuracy: 0.6830\n"
     ]
    },
    {
     "name": "stderr",
     "output_type": "stream",
     "text": [
      "Training: Epoch [91/100]: 100%|██████████████████████████████| 16/16 [00:00<00:00, 30.93it/s]                   \n",
      "Evaluate: Epoch [91/100]: 100%|██████████████████████████████| 4/4 [00:00<00:00, 79.93it/s]                     \n"
     ]
    },
    {
     "name": "stdout",
     "output_type": "stream",
     "text": [
      "VALID \t: Summary: Loss: 0.7985 Accuracy: 0.6840\n",
      "TRAIN \t: Summary: Loss: 0.7820 Accuracy: 0.6860\n"
     ]
    },
    {
     "name": "stderr",
     "output_type": "stream",
     "text": [
      "Training: Epoch [92/100]: 100%|██████████████████████████████| 16/16 [00:00<00:00, 30.99it/s]                   \n",
      "Evaluate: Epoch [92/100]: 100%|██████████████████████████████| 4/4 [00:00<00:00, 80.85it/s]                     \n"
     ]
    },
    {
     "name": "stdout",
     "output_type": "stream",
     "text": [
      "VALID \t: Summary: Loss: 0.7993 Accuracy: 0.6880\n",
      "TRAIN \t: Summary: Loss: 0.7832 Accuracy: 0.6775\n"
     ]
    },
    {
     "name": "stderr",
     "output_type": "stream",
     "text": [
      "Training: Epoch [93/100]: 100%|██████████████████████████████| 16/16 [00:00<00:00, 31.10it/s]                   \n",
      "Evaluate: Epoch [93/100]: 100%|██████████████████████████████| 4/4 [00:00<00:00, 82.07it/s]                     \n"
     ]
    },
    {
     "name": "stdout",
     "output_type": "stream",
     "text": [
      "VALID \t: Summary: Loss: 0.7994 Accuracy: 0.6880\n",
      "TRAIN \t: Summary: Loss: 0.7748 Accuracy: 0.6780\n"
     ]
    },
    {
     "name": "stderr",
     "output_type": "stream",
     "text": [
      "Training: Epoch [94/100]: 100%|██████████████████████████████| 16/16 [00:00<00:00, 29.55it/s]                   \n",
      "Evaluate: Epoch [94/100]: 100%|██████████████████████████████| 4/4 [00:00<00:00, 75.97it/s]                     \n"
     ]
    },
    {
     "name": "stdout",
     "output_type": "stream",
     "text": [
      "VALID \t: Summary: Loss: 0.7978 Accuracy: 0.6880\n",
      "TRAIN \t: Summary: Loss: 0.7704 Accuracy: 0.6870\n"
     ]
    },
    {
     "name": "stderr",
     "output_type": "stream",
     "text": [
      "Training: Epoch [95/100]: 100%|██████████████████████████████| 16/16 [00:00<00:00, 30.32it/s]                   \n",
      "Evaluate: Epoch [95/100]: 100%|██████████████████████████████| 4/4 [00:00<00:00, 78.03it/s]                     \n"
     ]
    },
    {
     "name": "stdout",
     "output_type": "stream",
     "text": [
      "VALID \t: Summary: Loss: 0.7979 Accuracy: 0.6860\n",
      "TRAIN \t: Summary: Loss: 0.7870 Accuracy: 0.6705\n"
     ]
    },
    {
     "name": "stderr",
     "output_type": "stream",
     "text": [
      "Training: Epoch [96/100]: 100%|██████████████████████████████| 16/16 [00:00<00:00, 30.48it/s]                   \n",
      "Evaluate: Epoch [96/100]: 100%|██████████████████████████████| 4/4 [00:00<00:00, 81.10it/s]                     \n"
     ]
    },
    {
     "name": "stdout",
     "output_type": "stream",
     "text": [
      "VALID \t: Summary: Loss: 0.7992 Accuracy: 0.6860\n",
      "TRAIN \t: Summary: Loss: 0.7942 Accuracy: 0.6715\n"
     ]
    },
    {
     "name": "stderr",
     "output_type": "stream",
     "text": [
      "Training: Epoch [97/100]: 100%|██████████████████████████████| 16/16 [00:00<00:00, 30.37it/s]                   \n",
      "Evaluate: Epoch [97/100]: 100%|██████████████████████████████| 4/4 [00:00<00:00, 79.81it/s]                     \n"
     ]
    },
    {
     "name": "stdout",
     "output_type": "stream",
     "text": [
      "VALID \t: Summary: Loss: 0.7983 Accuracy: 0.6860\n",
      "TRAIN \t: Summary: Loss: 0.7828 Accuracy: 0.6780\n"
     ]
    },
    {
     "name": "stderr",
     "output_type": "stream",
     "text": [
      "Training: Epoch [98/100]: 100%|██████████████████████████████| 16/16 [00:00<00:00, 30.40it/s]                   \n",
      "Evaluate: Epoch [98/100]: 100%|██████████████████████████████| 4/4 [00:00<00:00, 78.51it/s]                     \n"
     ]
    },
    {
     "name": "stdout",
     "output_type": "stream",
     "text": [
      "VALID \t: Summary: Loss: 0.8001 Accuracy: 0.6860\n",
      "TRAIN \t: Summary: Loss: 0.7827 Accuracy: 0.6790\n"
     ]
    },
    {
     "name": "stderr",
     "output_type": "stream",
     "text": [
      "Training: Epoch [99/100]: 100%|██████████████████████████████| 16/16 [00:00<00:00, 30.97it/s]                   \n",
      "Evaluate: Epoch [99/100]: 100%|██████████████████████████████| 4/4 [00:00<00:00, 81.06it/s]                     \n"
     ]
    },
    {
     "name": "stdout",
     "output_type": "stream",
     "text": [
      "VALID \t: Summary: Loss: 0.7992 Accuracy: 0.6860\n",
      "TRAIN \t: Summary: Loss: 0.7719 Accuracy: 0.7025\n"
     ]
    },
    {
     "name": "stderr",
     "output_type": "stream",
     "text": [
      "Training: Epoch [100/100]: 100%|██████████████████████████████| 16/16 [00:00<00:00, 30.55it/s]                  \n",
      "Evaluate: Epoch [100/100]: 100%|██████████████████████████████| 4/4 [00:00<00:00, 76.47it/s]                    \n"
     ]
    },
    {
     "name": "stdout",
     "output_type": "stream",
     "text": [
      "VALID \t: Summary: Loss: 0.7989 Accuracy: 0.6860\n",
      "TRAIN \t: Summary: Loss: 0.7997 Accuracy: 0.6770\n"
     ]
    },
    {
     "data": {
      "image/png": "[encoded data removed]",
      "text/plain": [
       "<Figure size 648x432 with 1 Axes>"
      ]
     },
     "metadata": {
      "needs_background": "light"
     },
     "output_type": "display_data"
    },
    {
     "data": {
      "image/png": "[encoded data removed]",
      "text/plain": [
       "<Figure size 648x432 with 1 Axes>"
      ]
     },
     "metadata": {
      "needs_background": "light"
     },
     "output_type": "display_data"
    },
    {
     "name": "stderr",
     "output_type": "stream",
     "text": [
      "Evaluate: Epoch [1/1]: 100%|██████████████████████████████| 32/32 [00:00<00:00, 76.67it/s]                      "
     ]
    },
    {
     "name": "stdout",
     "output_type": "stream",
     "text": [
      "TEST \t: Summary: Loss: 0.7808 Accuracy: 0.6807\n"
     ]
    },
    {
     "name": "stderr",
     "output_type": "stream",
     "text": [
      "\n"
     ]
    },
    {
     "data": {
      "text/plain": [
       "(0.7807928174734116, 0.68075)"
      ]
     },
     "execution_count": 84,
     "metadata": {},
     "output_type": "execute_result"
    }
   ],
   "source": [
    "fix_seed(0)\n",
    "\n",
    "# define network\n",
    "net = ConvNet(\n",
    "    in_channels=3,\n",
    "    num_classes=5,\n",
    "    ckpt_path=\"../checkpoints/cnn_best_hparams.pt\",\n",
    "    return_features=False,\n",
    ")\n",
    "\n",
    "# freeze some layers\n",
    "net.conv1.weight.requires_grad = False\n",
    "net.conv1.bias.requires_grad = False\n",
    "\n",
    "net.conv2.weight.requires_grad = False\n",
    "net.conv2.bias.requires_grad = False\n",
    "\n",
    "# net.linear1.weight.requires_grad = False\n",
    "# net.linear1.bias.requires_grad = False\n",
    "\n",
    "# net.linear2.weight.requires_grad = False\n",
    "# net.linear2.bias.requires_grad = False\n",
    "\n",
    "# define transforms\n",
    "train_transforms = [\n",
    "    {\n",
    "        \"name\": \"ToTensor\",\n",
    "        \"args\": {},\n",
    "    },\n",
    "    {\n",
    "        \"name\": \"Resize\",\n",
    "        \"args\": {\"size\": 32},\n",
    "    },\n",
    "    {\n",
    "        \"name\": \"Normalize\",\n",
    "        \"args\": {\"mean\": (0.5, 0.5, 0.5), \"std\": (0.5, 0.5, 0.5)},\n",
    "    },\n",
    "    {\n",
    "        \"name\": \"RandomAffine\",\n",
    "        \"args\": {\"degrees\": 10, \"translate\": (0.1, 0.1), \"scale\": (0.8, 1.2)},\n",
    "    },\n",
    "]\n",
    "valid_transforms = [\n",
    "    {\n",
    "        \"name\": \"ToTensor\",\n",
    "        \"args\": {},\n",
    "    },\n",
    "    {\n",
    "        \"name\": \"Resize\",\n",
    "        \"args\": {\"size\": 32},\n",
    "    },\n",
    "    {\n",
    "        \"name\": \"Normalize\",\n",
    "        \"args\": {\"mean\": (0.5, 0.5, 0.5), \"std\": (0.5, 0.5, 0.5)},\n",
    "    },\n",
    "]\n",
    "test_transforms = [\n",
    "    {\n",
    "        \"name\": \"ToTensor\",\n",
    "        \"args\": {},\n",
    "    },\n",
    "    {\n",
    "        \"name\": \"Resize\",\n",
    "        \"args\": {\"size\": 32},\n",
    "    },\n",
    "    {\n",
    "        \"name\": \"Normalize\",\n",
    "        \"args\": {\"mean\": (0.5, 0.5, 0.5), \"std\": (0.5, 0.5, 0.5)},\n",
    "    },\n",
    "]\n",
    "\n",
    "num_epochs = 100\n",
    "batch_size = 128\n",
    "\n",
    "# define the datasets\n",
    "valid_transform = InputTransform(valid_transforms)\n",
    "valid_dataset = STL(root=\"../datasets/STL-10/\", mode=\"valid\", transform=valid_transform, encode_labels=True)\n",
    "valid_loader = get_dataloader(valid_dataset, train=False, batch_size=batch_size, num_workers=0)\n",
    "\n",
    "train_transform = InputTransform(train_transforms)\n",
    "train_dataset = STL(root=\"../datasets/STL-10/\", mode=\"train\", transform=train_transform, encode_labels=True)\n",
    "train_loader = get_dataloader(train_dataset, train=True, batch_size=batch_size, num_workers=0)\n",
    "\n",
    "test_transform = InputTransform(test_transforms)\n",
    "test_dataset = STL(root=\"../datasets/STL-10/\", mode=\"test\", transform=test_transform, encode_labels=True)\n",
    "test_loader = get_dataloader(test_dataset, train=False, batch_size=batch_size, num_workers=0)\n",
    "\n",
    "# define the optimizer and scheduler\n",
    "opt_args = {\"name\": \"Adam\", \"lr\": 1e-4}\n",
    "\n",
    "sch_args = None\n",
    "# sch_args = {\"name\": \"MultiStepLR\", \"milestones\": [50], \"gamma\": 0.1}\n",
    "\n",
    "opt = optimizer(model_params=net.parameters(), **opt_args)\n",
    "sch = None\n",
    "if sch_args is not None:\n",
    "    sch = scheduler(opt=opt, **sch_args)\n",
    "    \n",
    "# define the loss function\n",
    "loss_fn = nn.CrossEntropyLoss()\n",
    "\n",
    "# train the model\n",
    "epochs, train_losses, train_metrics, valid_losses, valid_metrics = train(\n",
    "    net, loss_fn, train_loader, valid_loader, num_epochs=num_epochs, opt=opt, sch=sch,\n",
    ")\n",
    "\n",
    "arch = type(net).__name__\n",
    "\n",
    "# plot training curves\n",
    "plot_multiple_quantities_by_time(\n",
    "    quantities=[train_losses[\"loss\"], valid_losses[\"loss\"]],\n",
    "    time=epochs,\n",
    "    labels=[\"Train\", \"Validation\"],\n",
    "    title=f\"{arch} Loss curves: Finetune on STL\",\n",
    "    show=True,\n",
    "    save=True,\n",
    "    save_path=\"../results/cnn_finetuning_loss_plot_default.png\",\n",
    "    ylabel=\"Loss\",\n",
    ")\n",
    "plot_multiple_quantities_by_time(\n",
    "    quantities=[train_metrics[\"accuracy\"], valid_metrics[\"accuracy\"]],\n",
    "    time=epochs,\n",
    "    labels=[\"Train\", \"Validation\"],\n",
    "    title=f\"{arch} Accuracy curves: Finetune on STL\",\n",
    "    show=True,\n",
    "    save=True,\n",
    "    save_path=\"../results/cnn_finetuning_accu_plot_default.png\",\n",
    "    ylabel=\"Accuracy\",\n",
    ")\n",
    "\n",
    "N = net.eval()\n",
    "evaluate(N, test_loader, nn.CrossEntropyLoss(), 1, 1, mode=\"test\")"
   ]
  },
  {
   "cell_type": "code",
   "execution_count": 39,
   "id": "4116f068-7293-44cd-8a31-bb325fd5fcc1",
   "metadata": {},
   "outputs": [],
   "source": [
    "torch.save(net, \"../checkpoints/cnn_finetuned_best_stl.pt\")"
   ]
  },
  {
   "cell_type": "markdown",
   "id": "b7ebe145-ddab-44d9-bc5a-6eb64247d687",
   "metadata": {},
   "source": [
    "### Evaluate on test set"
   ]
  },
  {
   "cell_type": "code",
   "execution_count": 40,
   "id": "a711b183-203f-4422-98bf-a574a800f690",
   "metadata": {},
   "outputs": [],
   "source": [
    "net = ConvNet(\n",
    "    in_channels=3,\n",
    "    num_classes=5,\n",
    "    ckpt_path=\"../checkpoints/cnn_finetuned_best_stl.pt\",\n",
    "    return_features=False,\n",
    "    layer_to_ignore=None,\n",
    ")\n",
    "net = net.eval()"
   ]
  },
  {
   "cell_type": "code",
   "execution_count": 41,
   "id": "4bfccb15-a3d4-4b64-925a-141732a4eacc",
   "metadata": {},
   "outputs": [
    {
     "name": "stderr",
     "output_type": "stream",
     "text": [
      "Evaluate: Epoch [1/1]: 100%|██████████████████████████████| 32/32 [00:00<00:00, 78.33it/s]                      "
     ]
    },
    {
     "name": "stdout",
     "output_type": "stream",
     "text": [
      "TEST \t: Summary: Loss: 0.7493 Accuracy: 0.6990\n"
     ]
    },
    {
     "name": "stderr",
     "output_type": "stream",
     "text": [
      "\n"
     ]
    },
    {
     "data": {
      "text/plain": [
       "(0.7493223370984197, 0.699)"
      ]
     },
     "execution_count": 41,
     "metadata": {},
     "output_type": "execute_result"
    }
   ],
   "source": [
    "evaluate(net, test_loader, nn.CrossEntropyLoss(), 1, 1, mode=\"test\")"
   ]
  },
  {
   "cell_type": "markdown",
   "id": "38ca761a-4b93-4f4b-bdb6-64b5972e433a",
   "metadata": {
    "tags": []
   },
   "source": [
    "### Visualize features after finetuning"
   ]
  },
  {
   "cell_type": "code",
   "execution_count": 13,
   "id": "2d57e1ec-9962-4f0c-9985-ce588eebfaec",
   "metadata": {},
   "outputs": [
    {
     "name": "stdout",
     "output_type": "stream",
     "text": [
      ":::: Loaded dataset from ../datasets/STL-10/: X ((500, 96, 96, 3)) y (500)\n"
     ]
    }
   ],
   "source": [
    "# define the datasets\n",
    "valid_transform = InputTransform(valid_transforms)\n",
    "valid_dataset = STL(root=\"../datasets/STL-10/\", mode=\"valid\", transform=valid_transform, encode_labels=False)\n",
    "valid_loader = get_dataloader(valid_dataset, train=False, batch_size=128, num_workers=0)"
   ]
  },
  {
   "cell_type": "code",
   "execution_count": 14,
   "id": "fb633f6f-7c0d-47e4-a605-b26fe14be196",
   "metadata": {},
   "outputs": [],
   "source": [
    "net = ConvNet(\n",
    "    in_channels=3,\n",
    "    num_classes=5,\n",
    "    ckpt_path=\"../checkpoints/cnn_finetuned_best_stl.pt\",\n",
    "    return_features=True,\n",
    "    layer_to_ignore=None,\n",
    ")\n",
    "net = net.eval()"
   ]
  },
  {
   "cell_type": "code",
   "execution_count": 15,
   "id": "a345fac8-a790-4fa5-8036-f56e9e962cce",
   "metadata": {},
   "outputs": [
    {
     "name": "stderr",
     "output_type": "stream",
     "text": [
      "Extracting features: 100%|██████████████████████████████| 4/4 [00:00<00:00, 64.72it/s]                          \n"
     ]
    }
   ],
   "source": [
    "val_features = []\n",
    "valid_labels = []\n",
    "\n",
    "iterator = tqdm(valid_loader, f\"Extracting features\", bar_format='{l_bar}{bar:30}{r_bar}{bar:-10b}')\n",
    "with torch.no_grad():\n",
    "    for i, batch in enumerate(iterator):\n",
    "        images, targets = batch\n",
    "        output = net(images)\n",
    "        val_features.append(output.numpy())\n",
    "        valid_labels.append(targets.numpy())"
   ]
  },
  {
   "cell_type": "code",
   "execution_count": 16,
   "id": "398b7be5-eb79-4909-aed8-9e7ca914941f",
   "metadata": {},
   "outputs": [],
   "source": [
    "valid_features = np.vstack(val_features)\n",
    "valid_labels = np.concatenate(valid_labels)"
   ]
  },
  {
   "cell_type": "code",
   "execution_count": 17,
   "id": "6aed019e-7437-4201-bf61-3409840bf31b",
   "metadata": {},
   "outputs": [
    {
     "data": {
      "text/plain": [
       "((500, 84), (500,))"
      ]
     },
     "execution_count": 17,
     "metadata": {},
     "output_type": "execute_result"
    }
   ],
   "source": [
    "valid_features.shape, valid_labels.shape"
   ]
  },
  {
   "cell_type": "code",
   "execution_count": 18,
   "id": "a3d3fd61-0470-4127-9aee-33fd15cc4351",
   "metadata": {},
   "outputs": [],
   "source": [
    "X = valid_features\n",
    "y = valid_labels"
   ]
  },
  {
   "cell_type": "code",
   "execution_count": 19,
   "id": "4ce2197a-2418-499c-9b23-aee499b72c9e",
   "metadata": {},
   "outputs": [],
   "source": [
    "def visualize_features(\n",
    "        X, y,\n",
    "        title=\"Sample features\",\n",
    "        seed=0,\n",
    "        save=False,\n",
    "        save_path=\"../results/sample.png\",\n",
    "        show=True,\n",
    "    ):\n",
    "    np.random.seed(seed)\n",
    "\n",
    "    tsne = TSNE(n_components=2, random_state=seed)\n",
    "    Z = tsne.fit_transform(X)\n",
    "\n",
    "    df = pd.DataFrame(None, columns=[\"Z1\", \"Z2\", \"label\"])\n",
    "    df[\"Z1\"] = Z[:, 0]\n",
    "    df[\"Z2\"] = Z[:, 1]\n",
    "    df[\"label\"] = [LABEL_MAP[a].capitalize() for a in y]\n",
    "\n",
    "    fig, ax = plt.subplots(1, 1, figsize=(11, 7))\n",
    "    ax.grid()\n",
    "    sns.scatterplot(\n",
    "        data=df,\n",
    "        x=\"Z1\", y=\"Z2\", hue=\"label\", palette=\"Set2\", legend=True, ax=ax, s=100,\n",
    "    )\n",
    "    ax.set_title(title, fontsize=17)\n",
    "    \n",
    "    plt.legend(fontsize=14)\n",
    "\n",
    "    if save:\n",
    "        plt.savefig(save_path, bbox_inches=\"tight\")\n",
    "    \n",
    "    if save:\n",
    "        plt.show()"
   ]
  },
  {
   "cell_type": "code",
   "execution_count": 20,
   "id": "e76900e8-9bfe-4adc-ae6d-ee4ec0583cee",
   "metadata": {},
   "outputs": [
    {
     "data": {
      "image/png": "[encoded data removed]",
      "text/plain": [
       "<Figure size 792x504 with 1 Axes>"
      ]
     },
     "metadata": {
      "needs_background": "light"
     },
     "output_type": "display_data"
    }
   ],
   "source": [
    "visualize_features(\n",
    "    X, y,\n",
    "    title=\"ConvNet features for STL-10 (validation set) after finetuning\",\n",
    "    save_path=\"../results/convnet_features_after_finetuning.png\", save=True,\n",
    ")"
   ]
  },
  {
   "cell_type": "markdown",
   "id": "3de7fd09-0b0e-4760-85be-3ae722df866f",
   "metadata": {},
   "source": [
    "### Linear probing"
   ]
  },
  {
   "cell_type": "code",
   "execution_count": 80,
   "id": "bc2236ce-b73c-4e6b-ba61-5cc4ad81dbf5",
   "metadata": {},
   "outputs": [
    {
     "name": "stdout",
     "output_type": "stream",
     "text": [
      ":::: Loaded dataset from ../datasets/STL-10/: X ((500, 96, 96, 3)) y (500)\n",
      ":::: Loaded dataset from ../datasets/STL-10/: X ((2000, 96, 96, 3)) y (2000)\n",
      ":::: Loaded dataset from ../datasets/STL-10/: X ((4000, 96, 96, 3)) y (4000)\n"
     ]
    },
    {
     "name": "stderr",
     "output_type": "stream",
     "text": [
      "Extracting features: 100%|██████████████████████████████| 16/16 [00:00<00:00, 37.90it/s]                        \n",
      "Extracting features: 100%|██████████████████████████████| 4/4 [00:00<00:00, 79.59it/s]                          \n",
      "Extracting features: 100%|██████████████████████████████| 4/4 [00:00<00:00, 84.59it/s]                          \n"
     ]
    },
    {
     "data": {
      "image/png": "[encoded data removed]",
      "text/plain": [
       "<Figure size 648x432 with 1 Axes>"
      ]
     },
     "metadata": {
      "needs_background": "light"
     },
     "output_type": "display_data"
    },
    {
     "data": {
      "image/png": "[encoded data removed]",
      "text/plain": [
       "<Figure size 648x432 with 1 Axes>"
      ]
     },
     "metadata": {
      "needs_background": "light"
     },
     "output_type": "display_data"
    },
    {
     "name": "stdout",
     "output_type": "stream",
     "text": [
      "tensor(0.6680)\n"
     ]
    }
   ],
   "source": [
    "import torch\n",
    "import torch.nn as nn\n",
    "import torch.nn.functional as F\n",
    "\n",
    "train_transforms = [\n",
    "    {\n",
    "        \"name\": \"ToTensor\",\n",
    "        \"args\": {},\n",
    "    },\n",
    "    {\n",
    "        \"name\": \"Resize\",\n",
    "        \"args\": {\"size\": 32},\n",
    "    },\n",
    "    {\n",
    "        \"name\": \"Normalize\",\n",
    "        \"args\": {\"mean\": (0.5, 0.5, 0.5), \"std\": (0.5, 0.5, 0.5)},\n",
    "    },\n",
    "    {\n",
    "        \"name\": \"RandomAffine\",\n",
    "        \"args\": {\"degrees\": 10, \"translate\": (0.1, 0.1), \"scale\": (0.8, 1.2)},\n",
    "    },\n",
    "]\n",
    "train_transform = InputTransform(train_transforms)\n",
    "\n",
    "\n",
    "# define the datasets\n",
    "valid_dataset = STL(root=\"../datasets/STL-10/\", mode=\"valid\", transform=valid_transform, encode_labels=True)\n",
    "valid_loader = get_dataloader(valid_dataset, train=False, batch_size=batch_size, num_workers=0)\n",
    "\n",
    "train_dataset = STL(root=\"../datasets/STL-10/\", mode=\"train\", transform=train_transform, encode_labels=True)\n",
    "train_loader = get_dataloader(train_dataset, train=True, batch_size=batch_size, num_workers=0)\n",
    "\n",
    "test_dataset = STL(root=\"../datasets/STL-10/\", mode=\"test\", transform=test_transform, encode_labels=True)\n",
    "test_loader = get_dataloader(test_dataset, train=False, batch_size=batch_size, num_workers=0)\n",
    "\n",
    "# test checkpoint loading\n",
    "net = ConvNet(\n",
    "    in_channels=3,\n",
    "    num_classes=5,\n",
    "    ckpt_path=\"../checkpoints/cnn_best_hparams.pt\",\n",
    "    return_features=True,\n",
    ")\n",
    "net = net.eval()\n",
    "\n",
    "def get_features(net, data_loader):\n",
    "    features = []\n",
    "    labels = []\n",
    "\n",
    "    iterator = tqdm(data_loader, f\"Extracting features\", bar_format='{l_bar}{bar:30}{r_bar}{bar:-10b}')\n",
    "    with torch.no_grad():\n",
    "        for i, batch in enumerate(iterator):\n",
    "            images, targets = batch\n",
    "            output = net(images)\n",
    "            features.append(output)\n",
    "            labels.append(targets)\n",
    "    \n",
    "    return torch.vstack(features), torch.cat(labels)\n",
    "\n",
    "train_X, train_y = get_features(net, train_loader)\n",
    "valid_X, valid_y = get_features(net, valid_loader)\n",
    "test_X, test_y = get_features(net, valid_loader)\n",
    "\n",
    "linnet = nn.Sequential(\n",
    "    nn.Linear(84, 32),\n",
    "    nn.Linear(32, 5)\n",
    ")\n",
    "\n",
    "opt = optimizer(\"Adam\", linnet.parameters(), lr=1e-2)\n",
    "loss_fn = nn.CrossEntropyLoss()\n",
    "\n",
    "train_losses = []\n",
    "valid_losses = []\n",
    "train_accura = []\n",
    "valid_accura = []\n",
    "epochs = []\n",
    "num_epochs = 50\n",
    "\n",
    "for i in range(1, num_epochs + 1):\n",
    "    opt.zero_grad()\n",
    "\n",
    "    y_pred = linnet(train_X)\n",
    "    y_true = train_y\n",
    "    loss = loss_fn(y_pred, y_true)\n",
    "    y_pred = y_pred.argmax(1)\n",
    "    train_accura.append((sum(y_true == y_pred) / len(y_true)))\n",
    "\n",
    "    loss.backward()\n",
    "    opt.step()\n",
    "\n",
    "    train_losses.append(loss.item())\n",
    "    \n",
    "    with torch.no_grad():\n",
    "        y_pred = linnet(valid_X)\n",
    "        y_true = valid_y\n",
    "        loss = loss_fn(y_pred, y_true)\n",
    "        valid_losses.append(loss)\n",
    "        y_pred = y_pred.argmax(1)\n",
    "        valid_accura.append((sum(y_true == y_pred) / len(y_true)))\n",
    "    \n",
    "    epochs.append(i)\n",
    "\n",
    "plot_multiple_quantities_by_time(\n",
    "    quantities=[train_losses, valid_losses],\n",
    "    time=epochs,\n",
    "    labels=[\"Train\", \"Validation\"],\n",
    "    title=f\"(Linear probing) Loss curves: Finetune on STL\",\n",
    "    show=True,\n",
    "    ylabel=\"Loss\",\n",
    ")\n",
    "plot_multiple_quantities_by_time(\n",
    "    quantities=[train_accura, valid_accura],\n",
    "    time=epochs,\n",
    "    labels=[\"Train\", \"Validation\"],\n",
    "    title=f\"(Linear probing) Accuracy curves: Finetune on STL\",\n",
    "    show=True,\n",
    "    ylabel=\"Accuracy\",\n",
    ")\n",
    "\n",
    "y_pred = linnet(test_X)\n",
    "y_true = test_y\n",
    "y_pred = y_pred.argmax(1)\n",
    "print(sum(y_true == y_pred) / len(y_true))"
   ]
  },
  {
   "cell_type": "code",
   "execution_count": null,
   "id": "752dac50-6939-4137-bcd0-c025639fb514",
   "metadata": {},
   "outputs": [],
   "source": [
    "torch.save(linnet, \"../checkpoints/linear_probing_on_stl.pt\")"
   ]
  },
  {
   "cell_type": "code",
   "execution_count": null,
   "id": "2c750835-1a4f-4e03-a374-284117a7e37b",
   "metadata": {},
   "outputs": [],
   "source": []
  }
 ],
 "metadata": {
  "kernelspec": {
   "display_name": "Python 3 (ipykernel)",
   "language": "python",
   "name": "python3"
  },
  "language_info": {
   "codemirror_mode": {
    "name": "ipython",
    "version": 3
   },
   "file_extension": ".py",
   "mimetype": "text/x-python",
   "name": "python",
   "nbconvert_exporter": "python",
   "pygments_lexer": "ipython3",
   "version": "3.9.7"
  }
 },
 "nbformat": 4,
 "nbformat_minor": 5
}
